{
  "nbformat": 4,
  "nbformat_minor": 0,
  "metadata": {
    "colab": {
      "provenance": [],
      "gpuType": "T4",
      "authorship_tag": "ABX9TyPuzuyM6yjt7XkbDtldNwql",
      "include_colab_link": true
    },
    "kernelspec": {
      "name": "python3",
      "display_name": "Python 3"
    },
    "language_info": {
      "name": "python"
    },
    "accelerator": "GPU"
  },
  "cells": [
    {
      "cell_type": "markdown",
      "metadata": {
        "id": "view-in-github",
        "colab_type": "text"
      },
      "source": [
        "<a href=\"https://colab.research.google.com/github/matsunagalab/ColabBTR/blob/main/BTR.ipynb\" target=\"_parent\"><img src=\"https://colab.research.google.com/assets/colab-badge.svg\" alt=\"Open In Colab\"/></a>"
      ]
    },
    {
      "cell_type": "code",
      "source": [
        "!gdown 1fv1ROIuE-1UGbQ6pxsWzSO4CTQwneUnw\n",
        "!gdown 1fqkYqCijVlqIIhnxNEmQ2ucDcmf3vOHx"
      ],
      "metadata": {
        "colab": {
          "base_uri": "https://localhost:8080/"
        },
        "id": "zt4WNHdCPv-B",
        "outputId": "42049663-3d9c-42d0-849a-fdd84074931f"
      },
      "execution_count": 102,
      "outputs": [
        {
          "output_type": "stream",
          "name": "stdout",
          "text": [
            "Traceback (most recent call last):\n",
            "  File \"/usr/local/bin/gdown\", line 8, in <module>\n",
            "    sys.exit(main())\n",
            "  File \"/usr/local/lib/python3.10/dist-packages/gdown/cli.py\", line 151, in main\n",
            "    filename = download(\n",
            "  File \"/usr/local/lib/python3.10/dist-packages/gdown/download.py\", line 203, in download\n",
            "    filename_from_url = m.groups()[0]\n",
            "AttributeError: 'NoneType' object has no attribute 'groups'\n"
          ]
        }
      ]
    },
    {
      "cell_type": "code",
      "source": [
        "import gdown\n",
        "gdown.download('https://drive.google.com/file/d/1fv1ROIuE-1UGbQ6pxsWzSO4CTQwneUnw', 'images.npy', quiet=False)\n",
        "gdown.download('https://drive.google.com/file/d/1fqkYqCijVlqIIhnxNEmQ2ucDcmf3vOHx', 'tip.npy', quiet=False)"
      ],
      "metadata": {
        "colab": {
          "base_uri": "https://localhost:8080/",
          "height": 171
        },
        "id": "S8Sq9o18Mjlg",
        "outputId": "2fec4958-2bc5-4837-c2b0-a3f49c192a7e"
      },
      "execution_count": 100,
      "outputs": [
        {
          "output_type": "stream",
          "name": "stderr",
          "text": [
            "Downloading...\n",
            "From: https://drive.google.com/file/d/1fv1ROIuE-1UGbQ6pxsWzSO4CTQwneUnw\n",
            "To: /content/images.npy\n",
            "84.2kB [00:00, 2.63MB/s]\n",
            "Downloading...\n",
            "From: https://drive.google.com/file/d/1fqkYqCijVlqIIhnxNEmQ2ucDcmf3vOHx\n",
            "To: /content/tip.npy\n",
            "84.2kB [00:00, 2.67MB/s]\n"
          ]
        },
        {
          "output_type": "execute_result",
          "data": {
            "text/plain": [
              "'tip.npy'"
            ],
            "application/vnd.google.colaboratory.intrinsic+json": {
              "type": "string"
            }
          },
          "metadata": {},
          "execution_count": 100
        }
      ]
    },
    {
      "cell_type": "code",
      "source": [
        "import numpy as np\n",
        "images = np.load('/content/images.npy')\n",
        "tip = np.load('/content/tip.npy')\n",
        "surfaces = np.load('/content/surfs.npy')"
      ],
      "metadata": {
        "id": "jbT3fCa0NMpZ"
      },
      "execution_count": 114,
      "outputs": []
    },
    {
      "cell_type": "code",
      "execution_count": 115,
      "metadata": {
        "id": "ft4zIq0W7Ktl"
      },
      "outputs": [],
      "source": [
        "import torch\n",
        "\n",
        "\n",
        "def compute_xc_yc(tip):\n",
        "    tip_xsiz, tip_ysiz = tip.size()\n",
        "    xc = round(tip_xsiz / 2)\n",
        "    yc = round(tip_ysiz / 2)\n",
        "    return xc, yc\n",
        "\n",
        "\n",
        "def idilation(surface, tip):\n",
        "    # Move tensors to GPU\n",
        "    device = torch.device(\"cuda\" if torch.cuda.is_available() else \"cpu\")\n",
        "    surface = surface.to(device)\n",
        "    tip = tip.to(device)\n",
        "\n",
        "    xc, yc = compute_xc_yc(tip)\n",
        "    surf_xsiz, surf_ysiz = surface.size()\n",
        "    tip_xsiz, tip_ysiz = tip.size()\n",
        "\n",
        "    # Initialize result tensor on GPU\n",
        "    r = torch.zeros_like(surface)\n",
        "\n",
        "    # Replace nested loops with PyTorch operations\n",
        "    # Note: The following is a simplified version. Depending on the specific requirements of the dilation operation,\n",
        "    # you may need to adjust the logic to achieve the correct result.\n",
        "    for px in range(-xc, tip_xsiz - xc):\n",
        "        for py in range(-yc, tip_ysiz - yc):\n",
        "            temp = torch.roll(surface, shifts=(-px, -py), dims=(0, 1))\n",
        "            temp = temp + tip[xc + px, yc + py]\n",
        "            r = torch.max(r, temp)\n",
        "\n",
        "    return r\n",
        "\n",
        "\n",
        "def ierosion(image, tip):\n",
        "    # Move tensors to GPU\n",
        "    device = torch.device(\"cuda\" if torch.cuda.is_available() else \"cpu\")\n",
        "    image = image.to(device)\n",
        "    tip = tip.to(device)\n",
        "\n",
        "    xc, yc = compute_xc_yc(tip)\n",
        "    im_xsiz, im_ysiz = image.size()\n",
        "    tip_xsiz, tip_ysiz = tip.size()\n",
        "\n",
        "    # Initialize result tensor on GPU\n",
        "    r = torch.full_like(image, float('inf'))\n",
        "\n",
        "    # Replace nested loops with PyTorch operations\n",
        "    # Note: The following is a simplified version. Depending on the specific requirements of the erosion operation,\n",
        "    # you may need to adjust the logic to achieve the correct result.\n",
        "    for px in range(-xc, tip_xsiz - xc):\n",
        "        for py in range(-yc, tip_ysiz - yc):\n",
        "            temp = torch.roll(image, shifts=(px, py), dims=(0, 1))\n",
        "            temp = temp - tip[xc + px, yc + py]\n",
        "            r = torch.min(r, temp)\n",
        "\n",
        "    return r\n",
        "\n",
        "\n",
        "def translate_tip_mean(P, cutoff=10**(-8)):\n",
        "    # Ensure P is on GPU\n",
        "    P = P.to('cuda' if torch.cuda.is_available() else 'cpu')\n",
        "\n",
        "    tip_xsiz, tip_ysiz = P.size()\n",
        "    xc, yc = compute_xc_yc(P)\n",
        "\n",
        "    #p_max = torch.min(P)\n",
        "    #P = P - p_max\n",
        "\n",
        "    p_min = torch.min(P)\n",
        "    weight = P - p_min\n",
        "    weight = weight\n",
        "\n",
        "    id = weight < cutoff\n",
        "    weight[id] = 0.0\n",
        "\n",
        "    if torch.all(weight < 10**(-10)):\n",
        "        print('called')\n",
        "        weight.fill_(1.0)\n",
        "\n",
        "    ix = torch.ones(tip_xsiz, tip_ysiz, dtype=P.dtype, device=P.device)\n",
        "    iy = torch.ones(tip_xsiz, tip_ysiz, dtype=P.dtype, device=P.device)\n",
        "    ix = torch.cumsum(ix, dim=0) - 1.0\n",
        "    iy = torch.cumsum(iy, dim=1) - 1.0\n",
        "    com_x = torch.sum(ix * weight / torch.sum(weight))\n",
        "    com_y = torch.sum(iy * weight / torch.sum(weight))\n",
        "    id_x = round(com_x.item())\n",
        "    id_y = round(com_y.item())\n",
        "\n",
        "    pxmin = max(- xc, - id_x)\n",
        "    pymin = max(- yc, - id_y)\n",
        "    pxmax = min(tip_xsiz - xc, tip_xsiz - id_x)\n",
        "    pymax = min(tip_ysiz - yc, tip_ysiz - id_y)\n",
        "\n",
        "    print(id_x, id_y)\n",
        "    P_new = torch.full_like(P, p_min.item())\n",
        "    P_new[(xc + pxmin):(xc + pxmax), (yc + pymin):(yc + pymax)] = P[(id_x + pxmin):(id_x + pxmax), (id_y + pymin):(id_y + pymax)]\n",
        "\n",
        "    return P_new\n"
      ]
    },
    {
      "cell_type": "code",
      "source": [
        "import torch\n",
        "import numpy as np\n",
        "import matplotlib.pyplot as plt\n",
        "\n",
        "def gaussian_2d(x_size, y_size, x_mean, y_mean, x_sigma, y_sigma):\n",
        "    x = np.linspace(0, x_size - 1, x_size)\n",
        "    y = np.linspace(0, y_size - 1, y_size)\n",
        "    x, y = np.meshgrid(x, y)\n",
        "    return np.exp(-((x - x_mean) ** 2 / (2 * x_sigma ** 2) + (y - y_mean) ** 2 / (2 * y_sigma ** 2)))\n",
        "\n",
        "# Sample surface and tip\n",
        "surface_size = (50, 50)\n",
        "tip_size = (10, 10)\n",
        "\n",
        "surface = gaussian_2d(surface_size[0], surface_size[1], surface_size[0] / 2, surface_size[1] / 2, 1, 1)\n",
        "tip = gaussian_2d(tip_size[0], tip_size[1], tip_size[0] / 2, tip_size[1] / 2, 3, 3)\n",
        "\n",
        "# Convert to torch tensors\n",
        "surface_tensor = torch.tensor(surface, dtype=torch.float32)\n",
        "tip_tensor = torch.tensor(tip, dtype=torch.float32)\n",
        "\n",
        "# Perform dilation\n",
        "dilated_surface = idilation(surface_tensor, tip_tensor)\n",
        "\n",
        "# Perform erosion\n",
        "eroded_surface = ierosion(dilated_surface, tip_tensor)\n",
        "\n",
        "# Visualization\n",
        "plt.figure(figsize=(15, 5))\n",
        "plt.subplot(1, 4, 1)\n",
        "plt.imshow(surface, cmap='afmhot')\n",
        "plt.title('Original Surface')\n",
        "plt.colorbar()\n",
        "\n",
        "plt.subplot(1, 4, 2)\n",
        "plt.imshow(tip, cmap='afmhot')\n",
        "plt.title('Tip Shape')\n",
        "plt.colorbar()\n",
        "\n",
        "plt.subplot(1, 4, 3)\n",
        "plt.imshow(dilated_surface.cpu().numpy(), cmap='afmhot')\n",
        "plt.title('Dilated Surface')\n",
        "plt.colorbar()\n",
        "\n",
        "plt.subplot(1, 4, 4)\n",
        "plt.imshow(eroded_surface.cpu().numpy(), cmap='afmhot')\n",
        "plt.title('Eroded Surface')\n",
        "plt.colorbar()\n",
        "\n",
        "plt.show()"
      ],
      "metadata": {
        "colab": {
          "base_uri": "https://localhost:8080/",
          "height": 435
        },
        "id": "6pYXCEd685q5",
        "outputId": "dc4a7147-cbd7-47ba-b6b8-657976b46b82"
      },
      "execution_count": 74,
      "outputs": [
        {
          "output_type": "display_data",
          "data": {
            "text/plain": [
              "<Figure size 1500x500 with 8 Axes>"
            ],
            "image/png": "[encoded data removed]"
          },
          "metadata": {}
        }
      ]
    },
    {
      "cell_type": "code",
      "source": [
        "surface = surfaces[1, :, :]\n",
        "image = images[1, :, :]"
      ],
      "metadata": {
        "id": "jY0uVn0ISwup"
      },
      "execution_count": 112,
      "outputs": []
    },
    {
      "cell_type": "code",
      "source": [
        "import torch\n",
        "import torch.optim as optim\n",
        "import numpy as np\n",
        "\n",
        "surface_size = surface.shape\n",
        "tip_size = tip.shape\n",
        "surface_tensor = torch.tensor(surface, dtype=torch.float32)\n",
        "\n",
        "tip0 = tip\n",
        "tip0_tensor = torch.tensor(tip0, dtype=torch.float32)\n",
        "dilated0_surface = idilation(surface_tensor, tip0_tensor)\n",
        "\n",
        "# Initialize tip with random values\n",
        "tip_tensor = torch.zeros(tip_size, dtype=torch.float32, requires_grad=True)\n",
        "\n",
        "# Optimization settings\n",
        "learning_rate = 0.1\n",
        "optimizer = optim.Adam([tip_tensor], lr=learning_rate)\n",
        "num_iterations = 1000\n",
        "\n",
        "# Optimization loop\n",
        "for iteration in range(num_iterations):\n",
        "    optimizer.zero_grad()  # Clear gradients from the previous iteration\n",
        "\n",
        "    # Perform dilation\n",
        "    dilated_surface = idilation(surface_tensor, tip_tensor)\n",
        "\n",
        "    # Calculate MSE loss\n",
        "    loss = torch.mean((dilated0_surface - dilated_surface) ** 2)\n",
        "\n",
        "    # Backpropagation\n",
        "    loss.backward()\n",
        "\n",
        "    # Update tip\n",
        "    optimizer.step()\n",
        "\n",
        "    # Optional: print loss every few iterations\n",
        "    if iteration % 10 == 0:\n",
        "        print(f\"Iteration {iteration}, Loss: {loss.item()}\")\n",
        "\n",
        "# Final optimized tip\n",
        "optimized_tip = tip_tensor.detach().numpy()\n"
      ],
      "metadata": {
        "colab": {
          "base_uri": "https://localhost:8080/"
        },
        "id": "7T4taHl17TiC",
        "outputId": "306b4826-2bc5-47db-a5e1-1044fcbf3292"
      },
      "execution_count": 125,
      "outputs": [
        {
          "output_type": "stream",
          "name": "stdout",
          "text": [
            "Iteration 0, Loss: 6.097305774688721\n",
            "Iteration 10, Loss: 3.8779959678649902\n",
            "Iteration 20, Loss: 2.3126347064971924\n",
            "Iteration 30, Loss: 1.3099390268325806\n",
            "Iteration 40, Loss: 0.7200931906700134\n",
            "Iteration 50, Loss: 0.3914484679698944\n",
            "Iteration 60, Loss: 0.2145833671092987\n",
            "Iteration 70, Loss: 0.12077503651380539\n",
            "Iteration 80, Loss: 0.07069549709558487\n",
            "Iteration 90, Loss: 0.043458521366119385\n",
            "Iteration 100, Loss: 0.027525758370757103\n",
            "Iteration 110, Loss: 0.01772948168218136\n",
            "Iteration 120, Loss: 0.011636846698820591\n",
            "Iteration 130, Loss: 0.007652404718101025\n",
            "Iteration 140, Loss: 0.005082688760012388\n",
            "Iteration 150, Loss: 0.003417112398892641\n",
            "Iteration 160, Loss: 0.0023262316826730967\n",
            "Iteration 170, Loss: 0.001610392238944769\n",
            "Iteration 180, Loss: 0.0011401560623198748\n",
            "Iteration 190, Loss: 0.0008256030851043761\n",
            "Iteration 200, Loss: 0.0006237561465241015\n",
            "Iteration 210, Loss: 0.00046752410707995296\n",
            "Iteration 220, Loss: 0.0004982353420928121\n",
            "Iteration 230, Loss: 0.00037457869620993733\n",
            "Iteration 240, Loss: 0.0004847500240430236\n",
            "Iteration 250, Loss: 0.00017857611237559468\n",
            "Iteration 260, Loss: 0.00014427419228013605\n",
            "Iteration 270, Loss: 0.00012756563955917954\n",
            "Iteration 280, Loss: 0.00010835732246050611\n",
            "Iteration 290, Loss: 7.582524267490953e-05\n",
            "Iteration 300, Loss: 0.00015408558829221874\n",
            "Iteration 310, Loss: 0.0001852813147706911\n",
            "Iteration 320, Loss: 0.00010742692393250763\n",
            "Iteration 330, Loss: 0.0005352002335712314\n",
            "Iteration 340, Loss: 0.00015851932403165847\n",
            "Iteration 350, Loss: 4.073865420650691e-05\n",
            "Iteration 360, Loss: 1.8638447727425955e-05\n",
            "Iteration 370, Loss: 1.5314239135477692e-05\n",
            "Iteration 380, Loss: 1.2371421689749695e-05\n",
            "Iteration 390, Loss: 1.0039862900157459e-05\n",
            "Iteration 400, Loss: 8.74990837473888e-06\n",
            "Iteration 410, Loss: 7.308119620574871e-06\n",
            "Iteration 420, Loss: 5.83767905482091e-06\n",
            "Iteration 430, Loss: 6.455363745772047e-06\n",
            "Iteration 440, Loss: 3.417722382437205e-06\n",
            "Iteration 450, Loss: 3.841237685264787e-06\n",
            "Iteration 460, Loss: 2.2914841792953666e-06\n",
            "Iteration 470, Loss: 1.7760206674211076e-06\n",
            "Iteration 480, Loss: 1.440168034605449e-06\n",
            "Iteration 490, Loss: 1.1388088978492306e-06\n",
            "Iteration 500, Loss: 9.043004638442653e-07\n",
            "Iteration 510, Loss: 7.45400200230506e-07\n",
            "Iteration 520, Loss: 6.297663617260696e-07\n",
            "Iteration 530, Loss: 4.567289408896613e-07\n",
            "Iteration 540, Loss: 5.079691050013935e-07\n",
            "Iteration 550, Loss: 2.8693716558336746e-07\n",
            "Iteration 560, Loss: 2.231117548490147e-07\n",
            "Iteration 570, Loss: 1.8731071804722887e-07\n",
            "Iteration 580, Loss: 1.521530492709644e-07\n",
            "Iteration 590, Loss: 1.0794214233555977e-07\n",
            "Iteration 600, Loss: 8.651018390537502e-08\n",
            "Iteration 610, Loss: 1.033680945283777e-07\n",
            "Iteration 620, Loss: 1.3573861679105903e-07\n",
            "Iteration 630, Loss: 3.855095087601512e-08\n",
            "Iteration 640, Loss: 4.527121859609906e-07\n",
            "Iteration 650, Loss: 4.501814601098886e-06\n",
            "Iteration 660, Loss: 3.192189126366429e-07\n",
            "Iteration 670, Loss: 4.774342414748389e-07\n",
            "Iteration 680, Loss: 1.968301006627371e-07\n",
            "Iteration 690, Loss: 1.3110702639096417e-06\n",
            "Iteration 700, Loss: 7.848687033629176e-08\n",
            "Iteration 710, Loss: 1.0941893435756356e-07\n",
            "Iteration 720, Loss: 7.077583745740412e-07\n",
            "Iteration 730, Loss: 1.7325728549622e-06\n",
            "Iteration 740, Loss: 1.5387645362352487e-06\n",
            "Iteration 750, Loss: 1.807711846879556e-08\n",
            "Iteration 760, Loss: 8.198479008569848e-06\n",
            "Iteration 770, Loss: 9.979090827982873e-05\n",
            "Iteration 780, Loss: 0.00022494430595543236\n",
            "Iteration 790, Loss: 5.18017950525973e-05\n",
            "Iteration 800, Loss: 0.0010923405643552542\n",
            "Iteration 810, Loss: 0.0009399574482813478\n",
            "Iteration 820, Loss: 5.782357766292989e-05\n",
            "Iteration 830, Loss: 0.0011606266489252448\n",
            "Iteration 840, Loss: 0.001096764812245965\n",
            "Iteration 850, Loss: 7.827265653759241e-05\n",
            "Iteration 860, Loss: 0.0005039400421082973\n",
            "Iteration 870, Loss: 5.84889312449377e-05\n",
            "Iteration 880, Loss: 4.4534630433190614e-05\n",
            "Iteration 890, Loss: 1.66347817867063e-05\n",
            "Iteration 900, Loss: 4.966116466675885e-05\n",
            "Iteration 910, Loss: 0.000727523525711149\n",
            "Iteration 920, Loss: 0.00027765039703808725\n",
            "Iteration 930, Loss: 0.0002274615253554657\n",
            "Iteration 940, Loss: 3.072432446060702e-05\n",
            "Iteration 950, Loss: 0.0004810728714801371\n",
            "Iteration 960, Loss: 0.00014156628458295017\n",
            "Iteration 970, Loss: 3.913318141712807e-05\n",
            "Iteration 980, Loss: 9.177216998068616e-05\n",
            "Iteration 990, Loss: 0.00016409199452027678\n"
          ]
        }
      ]
    },
    {
      "cell_type": "code",
      "source": [
        "import torch\n",
        "import numpy as np\n",
        "import matplotlib.pyplot as plt\n",
        "\n",
        "import matplotlib.pyplot as plt\n",
        "plt.imshow(dilated0_surface.cpu(), cmap='afmhot')"
      ],
      "metadata": {
        "colab": {
          "base_uri": "https://localhost:8080/",
          "height": 447
        },
        "id": "Yfv2NUfh7X3u",
        "outputId": "1e8162e7-12fa-45e0-d451-cdf40a9b46f1"
      },
      "execution_count": 126,
      "outputs": [
        {
          "output_type": "execute_result",
          "data": {
            "text/plain": [
              "<matplotlib.image.AxesImage at 0x7841148b92d0>"
            ]
          },
          "metadata": {},
          "execution_count": 126
        },
        {
          "output_type": "display_data",
          "data": {
            "text/plain": [
              "<Figure size 640x480 with 1 Axes>"
            ],
            "image/png": "[encoded data removed]"
          },
          "metadata": {}
        }
      ]
    },
    {
      "cell_type": "code",
      "source": [
        "import torch\n",
        "import numpy as np\n",
        "import matplotlib.pyplot as plt\n",
        "\n",
        "plt.imshow(idilation(surface_tensor, tip_tensor).cpu().detach().numpy(), cmap='afmhot')"
      ],
      "metadata": {
        "colab": {
          "base_uri": "https://localhost:8080/",
          "height": 447
        },
        "id": "netkT1Uu70uB",
        "outputId": "df1c155b-c60c-4abe-889f-a7cf5beb929e"
      },
      "execution_count": 127,
      "outputs": [
        {
          "output_type": "execute_result",
          "data": {
            "text/plain": [
              "<matplotlib.image.AxesImage at 0x7841149213c0>"
            ]
          },
          "metadata": {},
          "execution_count": 127
        },
        {
          "output_type": "display_data",
          "data": {
            "text/plain": [
              "<Figure size 640x480 with 1 Axes>"
            ],
            "image/png": "[encoded data removed]"
          },
          "metadata": {}
        }
      ]
    },
    {
      "cell_type": "code",
      "source": [
        "import torch\n",
        "import numpy as np\n",
        "import matplotlib.pyplot as plt\n",
        "\n",
        "plt.imshow(optimized_tip, cmap='afmhot')"
      ],
      "metadata": {
        "colab": {
          "base_uri": "https://localhost:8080/",
          "height": 432
        },
        "id": "s-lq5ayc7-px",
        "outputId": "4a34636b-4146-4e56-edba-1ee790beca49"
      },
      "execution_count": 128,
      "outputs": [
        {
          "output_type": "execute_result",
          "data": {
            "text/plain": [
              "<matplotlib.image.AxesImage at 0x78411478a680>"
            ]
          },
          "metadata": {},
          "execution_count": 128
        },
        {
          "output_type": "display_data",
          "data": {
            "text/plain": [
              "<Figure size 640x480 with 1 Axes>"
            ],
            "image/png": "[encoded data removed]"
          },
          "metadata": {}
        }
      ]
    },
    {
      "cell_type": "code",
      "source": [
        "import torch\n",
        "import numpy as np\n",
        "import matplotlib.pyplot as plt\n",
        "\n",
        "plt.imshow(tip0, cmap='afmhot')"
      ],
      "metadata": {
        "colab": {
          "base_uri": "https://localhost:8080/",
          "height": 432
        },
        "id": "-jaoQYq08G5H",
        "outputId": "be30d2fb-93f1-4486-960c-5232e85cb43f"
      },
      "execution_count": 129,
      "outputs": [
        {
          "output_type": "execute_result",
          "data": {
            "text/plain": [
              "<matplotlib.image.AxesImage at 0x7841147f92d0>"
            ]
          },
          "metadata": {},
          "execution_count": 129
        },
        {
          "output_type": "display_data",
          "data": {
            "text/plain": [
              "<Figure size 640x480 with 1 Axes>"
            ],
            "image/png": "[encoded data removed]"
          },
          "metadata": {}
        }
      ]
    },
    {
      "cell_type": "code",
      "source": [
        "tip.shape"
      ],
      "metadata": {
        "colab": {
          "base_uri": "https://localhost:8080/"
        },
        "id": "AJ2RBlOKTqvm",
        "outputId": "126f43ea-429a-4c24-f8b4-1a5cf4e223da"
      },
      "execution_count": 130,
      "outputs": [
        {
          "output_type": "execute_result",
          "data": {
            "text/plain": [
              "(10, 14)"
            ]
          },
          "metadata": {},
          "execution_count": 130
        }
      ]
    },
    {
      "cell_type": "code",
      "source": [
        "import torch\n",
        "import numpy as np\n",
        "import matplotlib.pyplot as plt\n",
        "\n",
        "plt.plot(tip0_tensor[4, :].numpy())\n",
        "plt.plot(optimized_tip[4, :])"
      ],
      "metadata": {
        "colab": {
          "base_uri": "https://localhost:8080/",
          "height": 447
        },
        "id": "l0bs6dy3_a2k",
        "outputId": "795a1c1f-63d1-4a95-ba4d-c87a14019f47"
      },
      "execution_count": 131,
      "outputs": [
        {
          "output_type": "execute_result",
          "data": {
            "text/plain": [
              "[<matplotlib.lines.Line2D at 0x7841146bd360>]"
            ]
          },
          "metadata": {},
          "execution_count": 131
        },
        {
          "output_type": "display_data",
          "data": {
            "text/plain": [
              "<Figure size 640x480 with 1 Axes>"
            ],
            "image/png": "[encoded data removed]"
          },
          "metadata": {}
        }
      ]
    },
    {
      "cell_type": "code",
      "source": [
        "import torch\n",
        "from torch.utils.data import Dataset, DataLoader, TensorDataset\n",
        "from torch.optim import AdamW\n",
        "import copy\n",
        "\n",
        "lambda_my = 0.00001\n",
        "learning_rate_my = 0.1\n",
        "nepoch = 100\n",
        "\n",
        "class ImageDataset(Dataset):\n",
        "    def __init__(self, images):\n",
        "        self.images = images\n",
        "\n",
        "    def __len__(self):\n",
        "        return len(self.images)\n",
        "\n",
        "    def __getitem__(self, idx):\n",
        "        image = self.images[idx, :, :]\n",
        "        image = torch.from_numpy(image).float()\n",
        "        return image\n",
        "\n",
        "# Datasetオブジェクトを作成\n",
        "image_dataset = ImageDataset(images[:30, :, :])\n",
        "\n",
        "# DataLoaderを作成\n",
        "data_loader = DataLoader(image_dataset, batch_size=1, shuffle=False)\n",
        "\n",
        "# CustomModelを作成\n",
        "class CustomModel(torch.nn.Module):\n",
        "    def __init__(self, ny, nx, initial_tip):\n",
        "        super(CustomModel, self).__init__()\n",
        "        self.P = torch.nn.Parameter(initial_tip)\n",
        "\n",
        "    def forward(self, x):\n",
        "        return iopen(x, self.P)  # Assuming iopen is a function that operates on x using self.P\n",
        "\n",
        "m = CustomModel(ny, nx, torch.tensor(tip, dtype=torch.float32))\n",
        "optimizer = AdamW(m.parameters(), lr=learning_rate, betas=(0.9, 0.999), weight_decay=lambda)\n",
        "\n",
        "def loss_fn(images2, images1):\n",
        "    return torch.mean(torch.nn.functional.mse_loss(m(images2), images1, reduction='none'))\n",
        "\n",
        "loss_train = []\n",
        "for epoch in range(nepoch):\n",
        "    for x in data_loader:\n",
        "        optimizer.zero_grad()\n",
        "        y = copy(x)\n",
        "        loss = loss_fn(x, y)\n",
        "        loss.backward()\n",
        "        optimizer.step()\n",
        "        with torch.no_grad():\n",
        "            m.P.data = torch.clamp(m.P, max=0.0)\n",
        "            m.P.data = translate_tip_mean(m.P)  # Assuming translate_tip_mean is implemented\n",
        "\n",
        "    loss_train.append(loss_fn(images_copy, images).item())\n",
        "\n",
        "tip_estimate = m.P.detach().numpy()"
      ],
      "metadata": {
        "colab": {
          "base_uri": "https://localhost:8080/",
          "height": 144
        },
        "id": "VhfbI6vv_wyv",
        "outputId": "6f703fbb-98bc-4079-e5ca-879e7ff96a92"
      },
      "execution_count": 143,
      "outputs": [
        {
          "output_type": "error",
          "ename": "SyntaxError",
          "evalue": "invalid syntax (<ipython-input-143-d2e193f04054>, line 39)",
          "traceback": [
            "\u001b[0;36m  File \u001b[0;32m\"<ipython-input-143-d2e193f04054>\"\u001b[0;36m, line \u001b[0;32m39\u001b[0m\n\u001b[0;31m    optimizer = AdamW(m.parameters(), lr=learning_rate, betas=(0.9, 0.999), weight_decay=lambda)\u001b[0m\n\u001b[0m                                                                                               ^\u001b[0m\n\u001b[0;31mSyntaxError\u001b[0m\u001b[0;31m:\u001b[0m invalid syntax\n"
          ]
        }
      ]
    },
    {
      "cell_type": "code",
      "source": [],
      "metadata": {
        "id": "ZfXzFG1krPnn"
      },
      "execution_count": null,
      "outputs": []
    }
  ]
}