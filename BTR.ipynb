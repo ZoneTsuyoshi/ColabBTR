{
  "nbformat": 4,
  "nbformat_minor": 0,
  "metadata": {
    "colab": {
      "provenance": [],
      "gpuType": "T4",
      "authorship_tag": "ABX9TyOvgg255RmcuPGn8xWc12di",
      "include_colab_link": true
    },
    "kernelspec": {
      "name": "python3",
      "display_name": "Python 3"
    },
    "language_info": {
      "name": "python"
    },
    "accelerator": "GPU"
  },
  "cells": [
    {
      "cell_type": "markdown",
      "metadata": {
        "id": "view-in-github",
        "colab_type": "text"
      },
      "source": [
        "<a href=\"https://colab.research.google.com/github/matsunagalab/ColabBTR/blob/main/BTR.ipynb\" target=\"_parent\"><img src=\"https://colab.research.google.com/assets/colab-badge.svg\" alt=\"Open In Colab\"/></a>"
      ]
    },
    {
      "cell_type": "code",
      "source": [
        "!gdown 1fv1ROIuE-1UGbQ6pxsWzSO4CTQwneUnw\n",
        "!gdown 1fqkYqCijVlqIIhnxNEmQ2ucDcmf3vOHx"
      ],
      "metadata": {
        "colab": {
          "base_uri": "https://localhost:8080/"
        },
        "id": "zt4WNHdCPv-B",
        "outputId": "42049663-3d9c-42d0-849a-fdd84074931f"
      },
      "execution_count": 102,
      "outputs": [
        {
          "output_type": "stream",
          "name": "stdout",
          "text": [
            "Traceback (most recent call last):\n",
            "  File \"/usr/local/bin/gdown\", line 8, in <module>\n",
            "    sys.exit(main())\n",
            "  File \"/usr/local/lib/python3.10/dist-packages/gdown/cli.py\", line 151, in main\n",
            "    filename = download(\n",
            "  File \"/usr/local/lib/python3.10/dist-packages/gdown/download.py\", line 203, in download\n",
            "    filename_from_url = m.groups()[0]\n",
            "AttributeError: 'NoneType' object has no attribute 'groups'\n"
          ]
        }
      ]
    },
    {
      "cell_type": "code",
      "source": [
        "import gdown\n",
        "gdown.download('https://drive.google.com/file/d/1fv1ROIuE-1UGbQ6pxsWzSO4CTQwneUnw', 'images.npy', quiet=False)\n",
        "gdown.download('https://drive.google.com/file/d/1fqkYqCijVlqIIhnxNEmQ2ucDcmf3vOHx', 'tip.npy', quiet=False)"
      ],
      "metadata": {
        "colab": {
          "base_uri": "https://localhost:8080/",
          "height": 171
        },
        "id": "S8Sq9o18Mjlg",
        "outputId": "2fec4958-2bc5-4837-c2b0-a3f49c192a7e"
      },
      "execution_count": 100,
      "outputs": [
        {
          "output_type": "stream",
          "name": "stderr",
          "text": [
            "Downloading...\n",
            "From: https://drive.google.com/file/d/1fv1ROIuE-1UGbQ6pxsWzSO4CTQwneUnw\n",
            "To: /content/images.npy\n",
            "84.2kB [00:00, 2.63MB/s]\n",
            "Downloading...\n",
            "From: https://drive.google.com/file/d/1fqkYqCijVlqIIhnxNEmQ2ucDcmf3vOHx\n",
            "To: /content/tip.npy\n",
            "84.2kB [00:00, 2.67MB/s]\n"
          ]
        },
        {
          "output_type": "execute_result",
          "data": {
            "text/plain": [
              "'tip.npy'"
            ],
            "application/vnd.google.colaboratory.intrinsic+json": {
              "type": "string"
            }
          },
          "metadata": {},
          "execution_count": 100
        }
      ]
    },
    {
      "cell_type": "code",
      "source": [
        "import numpy as np\n",
        "images = np.load('/content/images.npy')\n",
        "tip = np.load('/content/tip.npy')\n",
        "surfaces = np.load('/content/surfs.npy')"
      ],
      "metadata": {
        "id": "jbT3fCa0NMpZ"
      },
      "execution_count": 415,
      "outputs": []
    },
    {
      "cell_type": "code",
      "execution_count": 383,
      "metadata": {
        "id": "ft4zIq0W7Ktl"
      },
      "outputs": [],
      "source": [
        "import torch\n",
        "\n",
        "\n",
        "def compute_xc_yc(tip):\n",
        "    tip_xsiz, tip_ysiz = tip.size()\n",
        "    xc = round(tip_xsiz / 2)\n",
        "    yc = round(tip_ysiz / 2)\n",
        "    return xc, yc\n",
        "\n",
        "\n",
        "def idilation(surface, tip):\n",
        "    # Move tensors to GPU\n",
        "    device = torch.device(\"cuda\" if torch.cuda.is_available() else \"cpu\")\n",
        "    surface = surface.to(device)\n",
        "    tip = tip.to(device)\n",
        "\n",
        "    xc, yc = compute_xc_yc(tip)\n",
        "    surf_xsiz, surf_ysiz = surface.size()\n",
        "    tip_xsiz, tip_ysiz = tip.size()\n",
        "\n",
        "    # Initialize result tensor on GPU\n",
        "    r = torch.full_like(surface, -float('inf'))\n",
        "\n",
        "    # Replace nested loops with PyTorch operations\n",
        "    # Note: The following is a simplified version. Depending on the specific requirements of the dilation operation,\n",
        "    # you may need to adjust the logic to achieve the correct result.\n",
        "    for px in range(-xc, tip_xsiz - xc):\n",
        "        for py in range(-yc, tip_ysiz - yc):\n",
        "            temp = torch.roll(surface, shifts=(-px, -py), dims=(0, 1))\n",
        "            temp = temp + tip[xc + px, yc + py]\n",
        "            r = torch.maximum(r, temp)\n",
        "\n",
        "    return r\n",
        "\n",
        "\n",
        "def ierosion(image, tip):\n",
        "    # Move tensors to GPU\n",
        "    device = torch.device(\"cuda\" if torch.cuda.is_available() else \"cpu\")\n",
        "    image = image.to(device)\n",
        "    tip = tip.to(device)\n",
        "\n",
        "    xc, yc = compute_xc_yc(tip)\n",
        "    im_xsiz, im_ysiz = image.size()\n",
        "    tip_xsiz, tip_ysiz = tip.size()\n",
        "\n",
        "    # Initialize result tensor on GPU\n",
        "    r = torch.full_like(image, float('inf'))\n",
        "\n",
        "    # Replace nested loops with PyTorch operations\n",
        "    # Note: The following is a simplified version. Depending on the specific requirements of the erosion operation,\n",
        "    # you may need to adjust the logic to achieve the correct result.\n",
        "    for px in range(-xc, tip_xsiz - xc):\n",
        "        for py in range(-yc, tip_ysiz - yc):\n",
        "            temp = torch.roll(image, shifts=(px, py), dims=(0, 1))\n",
        "            temp = temp - tip[xc + px, yc + py]\n",
        "            r = torch.minimum(r, temp)\n",
        "\n",
        "    return r\n",
        "\n",
        "\n",
        "def translate_tip_mean(P, cutoff=10**(-8)):\n",
        "    # Ensure P is on GPU\n",
        "    P = P.to('cuda' if torch.cuda.is_available() else 'cpu')\n",
        "\n",
        "    tip_xsiz, tip_ysiz = P.size()\n",
        "    xc, yc = compute_xc_yc(P)\n",
        "\n",
        "    #p_max = torch.min(P)\n",
        "    #P = P - p_max\n",
        "\n",
        "    p_min = torch.min(P)\n",
        "    weight = P - p_min\n",
        "    weight = weight\n",
        "\n",
        "    id = weight < cutoff\n",
        "    weight[id] = 0.0\n",
        "\n",
        "    if torch.all(weight < 10**(-10)):\n",
        "        #print('called')\n",
        "        weight.fill_(1.0)\n",
        "\n",
        "    ix = torch.ones(tip_xsiz, tip_ysiz, dtype=P.dtype, device=P.device)\n",
        "    iy = torch.ones(tip_xsiz, tip_ysiz, dtype=P.dtype, device=P.device)\n",
        "    ix = torch.cumsum(ix, dim=0) - 1.0\n",
        "    iy = torch.cumsum(iy, dim=1) - 1.0\n",
        "    com_x = torch.sum(ix * weight / torch.sum(weight))\n",
        "    com_y = torch.sum(iy * weight / torch.sum(weight))\n",
        "    id_x = round(com_x.item())\n",
        "    id_y = round(com_y.item())\n",
        "\n",
        "    pxmin = max(- xc, - id_x)\n",
        "    pymin = max(- yc, - id_y)\n",
        "    pxmax = min(tip_xsiz - xc, tip_xsiz - id_x)\n",
        "    pymax = min(tip_ysiz - yc, tip_ysiz - id_y)\n",
        "\n",
        "    #print(id_x, id_y)\n",
        "    P_new = torch.full_like(P, p_min.item())\n",
        "    P_new[(xc + pxmin):(xc + pxmax), (yc + pymin):(yc + pymax)] = P[(id_x + pxmin):(id_x + pxmax), (id_y + pymin):(id_y + pymax)]\n",
        "\n",
        "    return P_new\n"
      ]
    },
    {
      "cell_type": "code",
      "source": [
        "import torch\n",
        "import numpy as np\n",
        "import matplotlib.pyplot as plt\n",
        "\n",
        "def gaussian_2d(x_size, y_size, x_mean, y_mean, x_sigma, y_sigma):\n",
        "    x = np.linspace(0, x_size - 1, x_size)\n",
        "    y = np.linspace(0, y_size - 1, y_size)\n",
        "    x, y = np.meshgrid(x, y)\n",
        "    return np.exp(-((x - x_mean) ** 2 / (2 * x_sigma ** 2) + (y - y_mean) ** 2 / (2 * y_sigma ** 2)))\n",
        "\n",
        "# Sample surface and tip\n",
        "surface_size = (50, 50)\n",
        "tip_size = (10, 10)\n",
        "\n",
        "surface = gaussian_2d(surface_size[0], surface_size[1], surface_size[0] / 2, surface_size[1] / 2, 1, 1)\n",
        "tip = gaussian_2d(tip_size[0], tip_size[1], tip_size[0] / 2, tip_size[1] / 2, 3, 3)\n",
        "\n",
        "# Convert to torch tensors\n",
        "surface_tensor = torch.tensor(surface, dtype=torch.float32)\n",
        "tip_tensor = torch.tensor(tip, dtype=torch.float32)\n",
        "\n",
        "# Perform dilation\n",
        "dilated_surface = idilation(surface_tensor, tip_tensor)\n",
        "\n",
        "# Perform erosion\n",
        "eroded_surface = idilation(ierosion(dilated_surface, tip_tensor), tip_tensor)\n",
        "\n",
        "# Visualization\n",
        "plt.figure(figsize=(15, 5))\n",
        "plt.subplot(1, 4, 1)\n",
        "plt.imshow(surface, cmap='afmhot')\n",
        "plt.title('Original Surface')\n",
        "plt.colorbar()\n",
        "\n",
        "plt.subplot(1, 4, 2)\n",
        "plt.imshow(tip, cmap='afmhot')\n",
        "plt.title('Tip Shape')\n",
        "plt.colorbar()\n",
        "\n",
        "plt.subplot(1, 4, 3)\n",
        "plt.imshow(dilated_surface.cpu().numpy(), cmap='afmhot')\n",
        "plt.title('Dilated Surface')\n",
        "plt.colorbar()\n",
        "\n",
        "plt.subplot(1, 4, 4)\n",
        "plt.imshow(eroded_surface.cpu().numpy(), cmap='afmhot')\n",
        "plt.title('Eroded Surface')\n",
        "plt.colorbar()\n",
        "\n",
        "plt.show()"
      ],
      "metadata": {
        "colab": {
          "base_uri": "https://localhost:8080/",
          "height": 305
        },
        "id": "6pYXCEd685q5",
        "outputId": "e8e6fecc-8bf5-4db2-fbed-4a17c5efc5f6"
      },
      "execution_count": 384,
      "outputs": [
        {
          "output_type": "display_data",
          "data": {
            "text/plain": [
              "<Figure size 1500x500 with 8 Axes>"
            ],
            "image/png": "[encoded data removed]"
          },
          "metadata": {}
        }
      ]
    },
    {
      "cell_type": "code",
      "source": [
        "surface = surfaces[1, :, :]\n",
        "image = images[1, :, :]"
      ],
      "metadata": {
        "id": "jY0uVn0ISwup"
      },
      "execution_count": 397,
      "outputs": []
    },
    {
      "cell_type": "code",
      "source": [
        "image2_tensor = idilation(surface_tensor, tip_tensor)"
      ],
      "metadata": {
        "id": "IY-j8iLhX5j-"
      },
      "execution_count": 386,
      "outputs": []
    },
    {
      "cell_type": "code",
      "source": [
        "image.shape"
      ],
      "metadata": {
        "colab": {
          "base_uri": "https://localhost:8080/"
        },
        "id": "eVueu_CnYTIh",
        "outputId": "d0ba98ce-199d-4d07-c0c5-c538df8a9de6"
      },
      "execution_count": 387,
      "outputs": [
        {
          "output_type": "execute_result",
          "data": {
            "text/plain": [
              "(30, 30)"
            ]
          },
          "metadata": {},
          "execution_count": 387
        }
      ]
    },
    {
      "cell_type": "code",
      "source": [
        "surface.shape"
      ],
      "metadata": {
        "colab": {
          "base_uri": "https://localhost:8080/"
        },
        "id": "dNFHbq4VYpPx",
        "outputId": "58dee95b-6a05-4e31-a1a1-5a7044160a17"
      },
      "execution_count": 388,
      "outputs": [
        {
          "output_type": "execute_result",
          "data": {
            "text/plain": [
              "(30, 30)"
            ]
          },
          "metadata": {},
          "execution_count": 388
        }
      ]
    },
    {
      "cell_type": "code",
      "source": [
        "plt.imshow(image2_tensor.detach().cpu())\n",
        "plt.colorbar()"
      ],
      "metadata": {
        "colab": {
          "base_uri": "https://localhost:8080/",
          "height": 452
        },
        "id": "xoXiUg7VX6o5",
        "outputId": "bc68a299-4b55-4833-d054-a5c6f50787ee"
      },
      "execution_count": 389,
      "outputs": [
        {
          "output_type": "execute_result",
          "data": {
            "text/plain": [
              "<matplotlib.colorbar.Colorbar at 0x78410f0cb370>"
            ]
          },
          "metadata": {},
          "execution_count": 389
        },
        {
          "output_type": "display_data",
          "data": {
            "text/plain": [
              "<Figure size 640x480 with 2 Axes>"
            ],
            "image/png": "[encoded data removed]"
          },
          "metadata": {}
        }
      ]
    },
    {
      "cell_type": "code",
      "source": [
        "import torch\n",
        "import torch.optim as optim\n",
        "import numpy as np\n",
        "\n",
        "# Data\n",
        "device = torch.device(\"cuda\" if torch.cuda.is_available() else \"cpu\")\n",
        "surface_tensor = torch.tensor(surface, dtype=torch.float32)\n",
        "image_tensor = torch.tensor(image, dtype=torch.float32)\n",
        "surface_tensor = surface_tensor.to(device)\n",
        "image_tensor = image_tensor.to(device)\n",
        "\n",
        "# Initialization\n",
        "tip_tensor = torch.zeros(tip.shape, dtype=torch.float32, requires_grad=True)\n",
        "\n",
        "# Optimization settings\n",
        "learning_rate = 0.1\n",
        "optimizer = optim.Adam([tip_tensor], lr=learning_rate)\n",
        "num_iterations = 1000\n",
        "\n",
        "# Optimization loop\n",
        "for iteration in range(num_iterations):\n",
        "    optimizer.zero_grad()  # Clear gradients from the previous iteration\n",
        "\n",
        "    # Perform dilation\n",
        "    image2_tensor = idilation(surface_tensor, tip_tensor)\n",
        "\n",
        "    # Calculate MSE loss\n",
        "    loss = torch.mean((image2_tensor - image_tensor) ** 2)\n",
        "\n",
        "    # Backpropagation\n",
        "    loss.backward()\n",
        "\n",
        "    # Update tip\n",
        "    optimizer.step()\n",
        "\n",
        "    # Optional: print loss every few iterations\n",
        "    if iteration % 100 == 0:\n",
        "        print(f\"Iteration {iteration}, Loss: {loss.item()}\")\n",
        "\n",
        "# Final optimized tip\n",
        "tip_estimate = tip_tensor.detach().numpy()\n"
      ],
      "metadata": {
        "colab": {
          "base_uri": "https://localhost:8080/"
        },
        "id": "7T4taHl17TiC",
        "outputId": "e1bd4aa4-1005-4779-fb01-08d11afc1699"
      },
      "execution_count": 420,
      "outputs": [
        {
          "output_type": "stream",
          "name": "stdout",
          "text": [
            "Iteration 0, Loss: 6.229384422302246\n",
            "Iteration 100, Loss: 0.11259995400905609\n",
            "Iteration 200, Loss: 0.08684130758047104\n",
            "Iteration 300, Loss: 0.08670951426029205\n",
            "Iteration 400, Loss: 0.08664611726999283\n",
            "Iteration 500, Loss: 0.08664703369140625\n",
            "Iteration 600, Loss: 0.08665096759796143\n",
            "Iteration 700, Loss: 0.08665858209133148\n",
            "Iteration 800, Loss: 0.08665179461240768\n",
            "Iteration 900, Loss: 0.08664148300886154\n"
          ]
        }
      ]
    },
    {
      "cell_type": "code",
      "source": [
        "import torch\n",
        "import numpy as np\n",
        "import matplotlib.pyplot as plt\n",
        "\n",
        "import matplotlib.pyplot as plt\n",
        "plt.imshow(image_tensor.cpu(), cmap='afmhot')"
      ],
      "metadata": {
        "colab": {
          "base_uri": "https://localhost:8080/",
          "height": 447
        },
        "id": "Yfv2NUfh7X3u",
        "outputId": "5a0171c3-3322-4b5f-dc1c-01e51b800658"
      },
      "execution_count": 421,
      "outputs": [
        {
          "output_type": "execute_result",
          "data": {
            "text/plain": [
              "<matplotlib.image.AxesImage at 0x78410f02ac80>"
            ]
          },
          "metadata": {},
          "execution_count": 421
        },
        {
          "output_type": "display_data",
          "data": {
            "text/plain": [
              "<Figure size 640x480 with 1 Axes>"
            ],
            "image/png": "[encoded data removed]"
          },
          "metadata": {}
        }
      ]
    },
    {
      "cell_type": "code",
      "source": [
        "import torch\n",
        "import numpy as np\n",
        "import matplotlib.pyplot as plt\n",
        "\n",
        "plt.imshow(idilation(surface_tensor, tip_tensor).cpu().detach().numpy(), cmap='afmhot')"
      ],
      "metadata": {
        "colab": {
          "base_uri": "https://localhost:8080/",
          "height": 447
        },
        "id": "netkT1Uu70uB",
        "outputId": "c572366c-c271-4414-b3de-f03356f3d03e"
      },
      "execution_count": 422,
      "outputs": [
        {
          "output_type": "execute_result",
          "data": {
            "text/plain": [
              "<matplotlib.image.AxesImage at 0x78410f6e2f50>"
            ]
          },
          "metadata": {},
          "execution_count": 422
        },
        {
          "output_type": "display_data",
          "data": {
            "text/plain": [
              "<Figure size 640x480 with 1 Axes>"
            ],
            "image/png": "[encoded data removed]"
          },
          "metadata": {}
        }
      ]
    },
    {
      "cell_type": "code",
      "source": [
        "import torch\n",
        "import numpy as np\n",
        "import matplotlib.pyplot as plt\n",
        "\n",
        "plt.imshow(tip_estimate, cmap='afmhot')"
      ],
      "metadata": {
        "colab": {
          "base_uri": "https://localhost:8080/",
          "height": 432
        },
        "id": "s-lq5ayc7-px",
        "outputId": "d368c3fd-3b62-4718-e7bd-3f78d74f9bb3"
      },
      "execution_count": 423,
      "outputs": [
        {
          "output_type": "execute_result",
          "data": {
            "text/plain": [
              "<matplotlib.image.AxesImage at 0x78410ef5c760>"
            ]
          },
          "metadata": {},
          "execution_count": 423
        },
        {
          "output_type": "display_data",
          "data": {
            "text/plain": [
              "<Figure size 640x480 with 1 Axes>"
            ],
            "image/png": "[encoded data removed]"
          },
          "metadata": {}
        }
      ]
    },
    {
      "cell_type": "code",
      "source": [
        "import torch\n",
        "import numpy as np\n",
        "import matplotlib.pyplot as plt\n",
        "\n",
        "plt.imshow(tip, cmap='afmhot')"
      ],
      "metadata": {
        "colab": {
          "base_uri": "https://localhost:8080/",
          "height": 432
        },
        "id": "-jaoQYq08G5H",
        "outputId": "cd8eb892-7207-490e-84aa-bea17f998a2d"
      },
      "execution_count": 424,
      "outputs": [
        {
          "output_type": "execute_result",
          "data": {
            "text/plain": [
              "<matplotlib.image.AxesImage at 0x78410eed7730>"
            ]
          },
          "metadata": {},
          "execution_count": 424
        },
        {
          "output_type": "display_data",
          "data": {
            "text/plain": [
              "<Figure size 640x480 with 1 Axes>"
            ],
            "image/png": "[encoded data removed]"
          },
          "metadata": {}
        }
      ]
    },
    {
      "cell_type": "code",
      "source": [
        "plt.imshow(tip)\n",
        "plt.colorbar()"
      ],
      "metadata": {
        "colab": {
          "base_uri": "https://localhost:8080/",
          "height": 429
        },
        "id": "wvN2cEHTfYS2",
        "outputId": "b4fd43ad-2a8a-4acf-83b5-b7d61d026900"
      },
      "execution_count": 425,
      "outputs": [
        {
          "output_type": "execute_result",
          "data": {
            "text/plain": [
              "<matplotlib.colorbar.Colorbar at 0x78410fedc310>"
            ]
          },
          "metadata": {},
          "execution_count": 425
        },
        {
          "output_type": "display_data",
          "data": {
            "text/plain": [
              "<Figure size 640x480 with 2 Axes>"
            ],
            "image/png": "[encoded data removed]"
          },
          "metadata": {}
        }
      ]
    },
    {
      "cell_type": "code",
      "source": [
        "import torch\n",
        "import numpy as np\n",
        "import matplotlib.pyplot as plt\n",
        "\n",
        "plt.plot(tip[4, :])\n",
        "plt.plot(tip_estimate[4, 1:])"
      ],
      "metadata": {
        "colab": {
          "base_uri": "https://localhost:8080/",
          "height": 447
        },
        "id": "l0bs6dy3_a2k",
        "outputId": "75ea0599-fe2a-49ae-f218-7ca310ae38d6"
      },
      "execution_count": 428,
      "outputs": [
        {
          "output_type": "execute_result",
          "data": {
            "text/plain": [
              "[<matplotlib.lines.Line2D at 0x78410e2afa30>]"
            ]
          },
          "metadata": {},
          "execution_count": 428
        },
        {
          "output_type": "display_data",
          "data": {
            "text/plain": [
              "<Figure size 640x480 with 1 Axes>"
            ],
            "image/png": "[encoded data removed]"
          },
          "metadata": {}
        }
      ]
    },
    {
      "cell_type": "code",
      "source": [
        "import torch\n",
        "import torch.optim as optim\n",
        "import numpy as np\n",
        "\n",
        "# Data\n",
        "device = torch.device(\"cuda\" if torch.cuda.is_available() else \"cpu\")\n",
        "surface_tensor = torch.tensor(surface, dtype=torch.float32)\n",
        "image_tensor = torch.tensor(image, dtype=torch.float32)\n",
        "surface_tensor = surface_tensor.to(device)\n",
        "image_tensor = image_tensor.to(device)\n",
        "\n",
        "# Initialization\n",
        "tip_tensor = torch.zeros(tip.shape, dtype=torch.float32, requires_grad=True)\n",
        "\n",
        "# Optimization settings\n",
        "learning_rate = 0.1\n",
        "optimizer = optim.Adam([tip_tensor], lr=learning_rate)\n",
        "num_iterations = 1000\n",
        "\n",
        "# Optimization loop\n",
        "for iteration in range(num_iterations):\n",
        "    optimizer.zero_grad()  # Clear gradients from the previous iteration\n",
        "\n",
        "    # Perform dilation\n",
        "    surface2_tensor = ierosion(image_tensor, tip_tensor)\n",
        "\n",
        "    # Calculate MSE loss\n",
        "    loss = torch.mean((surface2_tensor - surface_tensor) ** 2)\n",
        "\n",
        "    # Backpropagation\n",
        "    loss.backward()\n",
        "\n",
        "    # Update tip\n",
        "    optimizer.step()\n",
        "\n",
        "    # Optional: print loss every few iterations\n",
        "    if iteration % 100 == 0:\n",
        "        print(f\"Iteration {iteration}, Loss: {loss.item()}\")\n",
        "\n",
        "# Final optimized tip\n",
        "tip_estimate = tip_tensor.detach().numpy()\n"
      ],
      "metadata": {
        "colab": {
          "base_uri": "https://localhost:8080/"
        },
        "id": "z8ZH4vN4Gm0c",
        "outputId": "be3bbb5b-e218-4bc3-c2c4-6d29a501aaa1"
      },
      "execution_count": 429,
      "outputs": [
        {
          "output_type": "stream",
          "name": "stdout",
          "text": [
            "Iteration 0, Loss: 1.3388584852218628\n",
            "Iteration 100, Loss: 0.15699467062950134\n",
            "Iteration 200, Loss: 0.08713163435459137\n",
            "Iteration 300, Loss: 0.07879184186458588\n",
            "Iteration 400, Loss: 0.07731862366199493\n",
            "Iteration 500, Loss: 0.07404652237892151\n",
            "Iteration 600, Loss: 0.07176375389099121\n",
            "Iteration 700, Loss: 0.071634441614151\n",
            "Iteration 800, Loss: 0.07164325565099716\n",
            "Iteration 900, Loss: 0.0716453418135643\n"
          ]
        }
      ]
    },
    {
      "cell_type": "code",
      "source": [
        "import torch\n",
        "import numpy as np\n",
        "import matplotlib.pyplot as plt\n",
        "\n",
        "plt.imshow(tip_estimate, cmap='afmhot')"
      ],
      "metadata": {
        "colab": {
          "base_uri": "https://localhost:8080/",
          "height": 432
        },
        "id": "8qmV5uSCG7IL",
        "outputId": "3b57b429-caec-4266-cc6e-f568bae34fb7"
      },
      "execution_count": 408,
      "outputs": [
        {
          "output_type": "execute_result",
          "data": {
            "text/plain": [
              "<matplotlib.image.AxesImage at 0x78410e749de0>"
            ]
          },
          "metadata": {},
          "execution_count": 408
        },
        {
          "output_type": "display_data",
          "data": {
            "text/plain": [
              "<Figure size 640x480 with 1 Axes>"
            ],
            "image/png": "[encoded data removed]"
          },
          "metadata": {}
        }
      ]
    },
    {
      "cell_type": "code",
      "source": [
        "import torch\n",
        "import torch.optim as optim\n",
        "import numpy as np\n",
        "\n",
        "tip_size = tip.shape\n",
        "image_tensor = torch.tensor(surface, dtype=torch.float32)\n",
        "\n",
        "tip0 = tip\n",
        "tip0_tensor = torch.tensor(tip0, dtype=torch.float32)\n",
        "dilated0_surface = idilation(surface_tensor, tip0_tensor)\n",
        "\n",
        "# Initialize tip with random values\n",
        "tip_tensor = torch.zeros(tip_size, dtype=torch.float32, requires_grad=True)\n",
        "\n",
        "# Optimization settings\n",
        "learning_rate = 0.1\n",
        "optimizer = optim.Adam([tip_tensor], lr=learning_rate)\n",
        "num_iterations = 1000\n",
        "\n",
        "# Optimization loop\n",
        "for iteration in range(num_iterations):\n",
        "    optimizer.zero_grad()  # Clear gradients from the previous iteration\n",
        "\n",
        "    # Perform dilation\n",
        "    dilated_surface = idilation(surface_tensor, tip_tensor)\n",
        "\n",
        "    # Calculate MSE loss\n",
        "    loss = torch.mean((dilated0_surface - dilated_surface) ** 2)\n",
        "\n",
        "    # Backpropagation\n",
        "    loss.backward()\n",
        "\n",
        "    # Update tip\n",
        "    optimizer.step()\n",
        "\n",
        "    # Optional: print loss every few iterations\n",
        "    if iteration % 10 == 0:\n",
        "        print(f\"Iteration {iteration}, Loss: {loss.item()}\")\n",
        "\n",
        "# Final optimized tip\n",
        "optimized_tip = tip_tensor.detach().numpy()\n"
      ],
      "metadata": {
        "colab": {
          "base_uri": "https://localhost:8080/"
        },
        "id": "mz7NZRC4EtS5",
        "outputId": "06fd3e1b-e84b-4a69-b838-88aa97b89573"
      },
      "execution_count": 409,
      "outputs": [
        {
          "output_type": "stream",
          "name": "stdout",
          "text": [
            "Iteration 0, Loss: 6.097305774688721\n",
            "Iteration 10, Loss: 3.8779959678649902\n",
            "Iteration 20, Loss: 2.3137495517730713\n",
            "Iteration 30, Loss: 1.3104345798492432\n",
            "Iteration 40, Loss: 0.719831645488739\n",
            "Iteration 50, Loss: 0.39108434319496155\n",
            "Iteration 60, Loss: 0.21409514546394348\n",
            "Iteration 70, Loss: 0.12002935260534286\n",
            "Iteration 80, Loss: 0.07035320997238159\n",
            "Iteration 90, Loss: 0.043170031160116196\n",
            "Iteration 100, Loss: 0.02734644152224064\n",
            "Iteration 110, Loss: 0.0175962895154953\n",
            "Iteration 120, Loss: 0.011514759622514248\n",
            "Iteration 130, Loss: 0.00758728664368391\n",
            "Iteration 140, Loss: 0.005040143150836229\n",
            "Iteration 150, Loss: 0.0033857596572488546\n",
            "Iteration 160, Loss: 0.0023049323353916407\n",
            "Iteration 170, Loss: 0.0015983462799340487\n",
            "Iteration 180, Loss: 0.0011276702862232924\n",
            "Iteration 190, Loss: 0.0008136875694617629\n",
            "Iteration 200, Loss: 0.0005988006014376879\n",
            "Iteration 210, Loss: 0.00045083838631398976\n",
            "Iteration 220, Loss: 0.000346830376656726\n",
            "Iteration 230, Loss: 0.0002716099552344531\n",
            "Iteration 240, Loss: 0.00021567691874224693\n",
            "Iteration 250, Loss: 0.00017263584595639259\n",
            "Iteration 260, Loss: 0.0001392775448039174\n",
            "Iteration 270, Loss: 0.00011276201985310763\n",
            "Iteration 280, Loss: 9.17067372938618e-05\n",
            "Iteration 290, Loss: 7.46153891668655e-05\n",
            "Iteration 300, Loss: 6.077380749047734e-05\n",
            "Iteration 310, Loss: 4.9470934754936025e-05\n",
            "Iteration 320, Loss: 4.0304334106622264e-05\n",
            "Iteration 330, Loss: 3.280556120444089e-05\n",
            "Iteration 340, Loss: 2.6711615646490827e-05\n",
            "Iteration 350, Loss: 2.1778747395728715e-05\n",
            "Iteration 360, Loss: 1.776030330802314e-05\n",
            "Iteration 370, Loss: 1.4480777281278279e-05\n",
            "Iteration 380, Loss: 1.1798560990428086e-05\n",
            "Iteration 390, Loss: 9.609796506993007e-06\n",
            "Iteration 400, Loss: 7.81215203460306e-06\n",
            "Iteration 410, Loss: 6.343394488794729e-06\n",
            "Iteration 420, Loss: 5.1443926167848986e-06\n",
            "Iteration 430, Loss: 4.16918373957742e-06\n",
            "Iteration 440, Loss: 3.369553724041907e-06\n",
            "Iteration 450, Loss: 2.718356199693517e-06\n",
            "Iteration 460, Loss: 2.1899998046137625e-06\n",
            "Iteration 470, Loss: 1.7616849845580873e-06\n",
            "Iteration 480, Loss: 1.4134728871795232e-06\n",
            "Iteration 490, Loss: 1.1314009498164523e-06\n",
            "Iteration 500, Loss: 9.041056046044105e-07\n",
            "Iteration 510, Loss: 7.206659233816026e-07\n",
            "Iteration 520, Loss: 5.728581413677603e-07\n",
            "Iteration 530, Loss: 4.5442206442203315e-07\n",
            "Iteration 540, Loss: 3.5924469443671114e-07\n",
            "Iteration 550, Loss: 2.8378630645420344e-07\n",
            "Iteration 560, Loss: 2.2316488923479483e-07\n",
            "Iteration 570, Loss: 1.7509525207515253e-07\n",
            "Iteration 580, Loss: 1.3713750490751409e-07\n",
            "Iteration 590, Loss: 1.070303241590409e-07\n",
            "Iteration 600, Loss: 8.325450551183167e-08\n",
            "Iteration 610, Loss: 6.458723333935268e-08\n",
            "Iteration 620, Loss: 4.996552505076579e-08\n",
            "Iteration 630, Loss: 3.8576178695848284e-08\n",
            "Iteration 640, Loss: 2.9641787691048194e-08\n",
            "Iteration 650, Loss: 2.273252697193584e-08\n",
            "Iteration 660, Loss: 1.738752075652883e-08\n",
            "Iteration 670, Loss: 1.3271789889302e-08\n",
            "Iteration 680, Loss: 3.0886101740179583e-05\n",
            "Iteration 690, Loss: 0.0035109505988657475\n",
            "Iteration 700, Loss: 0.001695621875114739\n",
            "Iteration 710, Loss: 0.0003974235733039677\n",
            "Iteration 720, Loss: 0.00043684119009412825\n",
            "Iteration 730, Loss: 0.00011068959429394454\n",
            "Iteration 740, Loss: 0.00013625400606542826\n",
            "Iteration 750, Loss: 2.3055932615534402e-05\n",
            "Iteration 760, Loss: 6.841902359155938e-05\n",
            "Iteration 770, Loss: 6.145771476440132e-05\n",
            "Iteration 780, Loss: 5.010994209442288e-05\n",
            "Iteration 790, Loss: 6.9647221607738174e-06\n",
            "Iteration 800, Loss: 1.5150648323469795e-05\n",
            "Iteration 810, Loss: 3.4870395211328287e-06\n",
            "Iteration 820, Loss: 6.585345886378491e-07\n",
            "Iteration 830, Loss: 6.749248768755933e-07\n",
            "Iteration 840, Loss: 9.953988211464093e-08\n",
            "Iteration 850, Loss: 1.0506011172140006e-08\n",
            "Iteration 860, Loss: 4.127266972631105e-09\n",
            "Iteration 870, Loss: 7.327555007208275e-09\n",
            "Iteration 880, Loss: 1.574823471628406e-08\n",
            "Iteration 890, Loss: 1.0694168883773614e-09\n",
            "Iteration 900, Loss: 2.4077033700109496e-08\n",
            "Iteration 910, Loss: 1.717669562140145e-09\n",
            "Iteration 920, Loss: 1.9644783577632552e-08\n",
            "Iteration 930, Loss: 1.2842938268420312e-08\n",
            "Iteration 940, Loss: 1.1017959877790418e-09\n",
            "Iteration 950, Loss: 5.889358445365644e-10\n",
            "Iteration 960, Loss: 6.460672274943846e-11\n",
            "Iteration 970, Loss: 4.965104993814862e-10\n",
            "Iteration 980, Loss: 3.3842337265888034e-10\n",
            "Iteration 990, Loss: 5.653092143703686e-12\n"
          ]
        }
      ]
    },
    {
      "cell_type": "code",
      "source": [
        "import torch\n",
        "from torch.utils.data import Dataset, DataLoader, TensorDataset\n",
        "from torch.optim import AdamW\n",
        "import copy\n",
        "\n",
        "lambda_my = 0.00001\n",
        "lr_my = 1.0\n",
        "nepoch = 10\n",
        "\n",
        "class ImageDataset(Dataset):\n",
        "    def __init__(self, images):\n",
        "        self.images = images\n",
        "\n",
        "    def __len__(self):\n",
        "        return len(self.images)\n",
        "\n",
        "    def __getitem__(self, idx):\n",
        "        image = self.images[idx, :, :]\n",
        "        image = torch.from_numpy(image).float()\n",
        "        device = torch.device(\"cuda\" if torch.cuda.is_available() else \"cpu\")\n",
        "        image = image.to(device)\n",
        "        return image\n",
        "\n",
        "# Datasetオブジェクトを作成\n",
        "image_dataset = ImageDataset(images[:30, :, :])\n",
        "\n",
        "# DataLoaderを作成\n",
        "data_loader = DataLoader(image_dataset, batch_size=1, shuffle=False)\n",
        "\n",
        "# CustomModelを作成\n",
        "class CustomModel(torch.nn.Module):\n",
        "    def __init__(self, tip):\n",
        "        super(CustomModel, self).__init__()\n",
        "        nx, ny = tip.shape\n",
        "        initial_tip = torch.zeros((nx, ny), dtype=torch.float32)\n",
        "        device = torch.device(\"cuda\" if torch.cuda.is_available() else \"cpu\")\n",
        "        initial_tip = initial_tip.to(device)\n",
        "        self.P = torch.nn.Parameter(initial_tip)\n",
        "\n",
        "    def forward(self, x):\n",
        "        return idilation(ierosion(x, self.P), self.P)\n",
        "\n",
        "m = CustomModel(tip)\n",
        "\n",
        "def loss_fn(image):\n",
        "    return torch.nn.functional.mse_loss(m.forward(image), image, reduction='mean')\n",
        "\n",
        "optimizer = AdamW(m.parameters(), lr=lr_my, weight_decay=lambda_my)"
      ],
      "metadata": {
        "id": "VhfbI6vv_wyv"
      },
      "execution_count": 249,
      "outputs": []
    },
    {
      "cell_type": "code",
      "source": [
        "x = next(iter(data_loader))"
      ],
      "metadata": {
        "id": "bpOzwdJ31WM4"
      },
      "execution_count": 250,
      "outputs": []
    },
    {
      "cell_type": "code",
      "source": [
        "loss = loss_fn(x[0])"
      ],
      "metadata": {
        "id": "4NAvfQaz2NL8"
      },
      "execution_count": 251,
      "outputs": []
    },
    {
      "cell_type": "code",
      "source": [
        "loss"
      ],
      "metadata": {
        "colab": {
          "base_uri": "https://localhost:8080/"
        },
        "id": "Gyp0biDO7gyB",
        "outputId": "0a8061a5-5cd0-47d2-ff82-add6219be57b"
      },
      "execution_count": 252,
      "outputs": [
        {
          "output_type": "execute_result",
          "data": {
            "text/plain": [
              "tensor(5.6080, device='cuda:0', grad_fn=<MseLossBackward0>)"
            ]
          },
          "metadata": {},
          "execution_count": 252
        }
      ]
    },
    {
      "cell_type": "code",
      "source": [
        "loss.backward()"
      ],
      "metadata": {
        "id": "V-cUR9n07EVX"
      },
      "execution_count": 253,
      "outputs": []
    },
    {
      "cell_type": "code",
      "source": [
        "optimizer"
      ],
      "metadata": {
        "colab": {
          "base_uri": "https://localhost:8080/"
        },
        "id": "VG48cXgU7KWe",
        "outputId": "d014b528-ceb5-43e8-e158-2978bf63895b"
      },
      "execution_count": 254,
      "outputs": [
        {
          "output_type": "execute_result",
          "data": {
            "text/plain": [
              "AdamW (\n",
              "Parameter Group 0\n",
              "    amsgrad: False\n",
              "    betas: (0.9, 0.999)\n",
              "    capturable: False\n",
              "    differentiable: False\n",
              "    eps: 1e-08\n",
              "    foreach: None\n",
              "    fused: None\n",
              "    lr: 1.0\n",
              "    maximize: False\n",
              "    weight_decay: 1e-05\n",
              ")"
            ]
          },
          "metadata": {},
          "execution_count": 254
        }
      ]
    },
    {
      "cell_type": "code",
      "source": [
        "loss_train = []\n",
        "for epoch in range(nepoch):\n",
        "    loss_tmp = 0.0\n",
        "    for x in data_loader:\n",
        "        optimizer.zero_grad()\n",
        "        loss = loss_fn(x[0])\n",
        "        loss.backward()\n",
        "        optimizer.step()\n",
        "        #with torch.no_grad():\n",
        "            #m.P.data = torch.clamp(m.P, max=0.0)\n",
        "            #m.P.data = translate_tip_mean(m.P)\n",
        "        loss_tmp += loss_fn(x[0]).item()\n",
        "\n",
        "    print(epoch, loss_tmp)\n",
        "    loss_train.append(loss_tmp)\n",
        "\n",
        "tip_estimate = m.P.detach().to('cpu').numpy()"
      ],
      "metadata": {
        "colab": {
          "base_uri": "https://localhost:8080/"
        },
        "id": "ZfXzFG1krPnn",
        "outputId": "c1b56281-7e98-4941-9e0c-7a77e50cc96c"
      },
      "execution_count": 255,
      "outputs": [
        {
          "output_type": "stream",
          "name": "stdout",
          "text": [
            "0 95.3866126537323\n",
            "1 95.3866126537323\n",
            "2 95.3866126537323\n",
            "3 95.3866126537323\n",
            "4 95.3866126537323\n",
            "5 95.3866126537323\n",
            "6 95.3866126537323\n",
            "7 95.3866126537323\n",
            "8 95.3866126537323\n",
            "9 95.3866126537323\n"
          ]
        }
      ]
    },
    {
      "cell_type": "code",
      "source": [
        "tip_estimate = m.P.detach().to('cpu').numpy()"
      ],
      "metadata": {
        "id": "2tgHT6ap1QfV"
      },
      "execution_count": 263,
      "outputs": []
    },
    {
      "cell_type": "code",
      "source": [
        "tip_estimate"
      ],
      "metadata": {
        "colab": {
          "base_uri": "https://localhost:8080/"
        },
        "id": "pDUwefus4YTV",
        "outputId": "da376ff3-175e-46c3-bdc1-1329a12e7ea3"
      },
      "execution_count": 264,
      "outputs": [
        {
          "output_type": "execute_result",
          "data": {
            "text/plain": [
              "array([[0., 0., 0., 0., 0., 0., 0., 0., 0., 0., 0., 0., 0., 0.],\n",
              "       [0., 0., 0., 0., 0., 0., 0., 0., 0., 0., 0., 0., 0., 0.],\n",
              "       [0., 0., 0., 0., 0., 0., 0., 0., 0., 0., 0., 0., 0., 0.],\n",
              "       [0., 0., 0., 0., 0., 0., 0., 0., 0., 0., 0., 0., 0., 0.],\n",
              "       [0., 0., 0., 0., 0., 0., 0., 0., 0., 0., 0., 0., 0., 0.],\n",
              "       [0., 0., 0., 0., 0., 0., 0., 0., 0., 0., 0., 0., 0., 0.],\n",
              "       [0., 0., 0., 0., 0., 0., 0., 0., 0., 0., 0., 0., 0., 0.],\n",
              "       [0., 0., 0., 0., 0., 0., 0., 0., 0., 0., 0., 0., 0., 0.],\n",
              "       [0., 0., 0., 0., 0., 0., 0., 0., 0., 0., 0., 0., 0., 0.],\n",
              "       [0., 0., 0., 0., 0., 0., 0., 0., 0., 0., 0., 0., 0., 0.]],\n",
              "      dtype=float32)"
            ]
          },
          "metadata": {},
          "execution_count": 264
        }
      ]
    },
    {
      "cell_type": "code",
      "source": [
        "import torch\n",
        "from torch.utils.data import Dataset, DataLoader, TensorDataset\n",
        "from torch.optim import AdamW\n",
        "import copy\n",
        "\n",
        "lambda_my = 0.00001\n",
        "lr_my = 10.0\n",
        "nepoch = 10\n",
        "\n",
        "class ImageDataset(Dataset):\n",
        "    def __init__(self, images):\n",
        "        self.images = images\n",
        "\n",
        "    def __len__(self):\n",
        "        return len(self.images)\n",
        "\n",
        "    def __getitem__(self, idx):\n",
        "        image = self.images[idx, :, :]\n",
        "        image = torch.from_numpy(image).float()\n",
        "        device = torch.device(\"cuda\" if torch.cuda.is_available() else \"cpu\")\n",
        "        image = image.to(device)\n",
        "        return image\n",
        "\n",
        "# Datasetオブジェクトを作成\n",
        "image_dataset = ImageDataset(images[:30, :, :])\n",
        "\n",
        "# DataLoaderを作成\n",
        "data_loader = DataLoader(image_dataset, batch_size=1, shuffle=False)\n",
        "\n",
        "tip_estimate = torch.zeros(tip.shape, dtype=torch.float32, requires_grad=True)\n",
        "device = torch.device(\"cuda\" if torch.cuda.is_available() else \"cpu\")\n",
        "tip_estimate = tip_estimate.to(device)\n",
        "\n",
        "#optimizer = AdamW([tip_estimate], lr=lr_my, weight_decay=lambda_my)\n",
        "optimizer = optim.Adam([tip_estimate], lr=lr_my)\n",
        "\n",
        "def loss_fn(image):\n",
        "    return torch.mean((idilation(ierosion(image, tip_estimate), tip_estimate) - image)**2)"
      ],
      "metadata": {
        "colab": {
          "base_uri": "https://localhost:8080/",
          "height": 423
        },
        "id": "HckAwpcZ4fKe",
        "outputId": "f368403f-5c8c-4998-9aa2-5eb1bf66d604"
      },
      "execution_count": 268,
      "outputs": [
        {
          "output_type": "error",
          "ename": "ValueError",
          "evalue": "can't optimize a non-leaf Tensor",
          "traceback": [
            "\u001b[0;31m---------------------------------------------------------------------------\u001b[0m",
            "\u001b[0;31mValueError\u001b[0m                                Traceback (most recent call last)",
            "\u001b[0;32m<ipython-input-268-de647db83c40>\u001b[0m in \u001b[0;36m<cell line: 35>\u001b[0;34m()\u001b[0m\n\u001b[1;32m     33\u001b[0m \u001b[0;34m\u001b[0m\u001b[0m\n\u001b[1;32m     34\u001b[0m \u001b[0;31m#optimizer = AdamW([tip_estimate], lr=lr_my, weight_decay=lambda_my)\u001b[0m\u001b[0;34m\u001b[0m\u001b[0;34m\u001b[0m\u001b[0m\n\u001b[0;32m---> 35\u001b[0;31m \u001b[0moptimizer\u001b[0m \u001b[0;34m=\u001b[0m \u001b[0moptim\u001b[0m\u001b[0;34m.\u001b[0m\u001b[0mAdam\u001b[0m\u001b[0;34m(\u001b[0m\u001b[0;34m[\u001b[0m\u001b[0mtip_estimate\u001b[0m\u001b[0;34m]\u001b[0m\u001b[0;34m,\u001b[0m \u001b[0mlr\u001b[0m\u001b[0;34m=\u001b[0m\u001b[0mlr_my\u001b[0m\u001b[0;34m)\u001b[0m\u001b[0;34m\u001b[0m\u001b[0;34m\u001b[0m\u001b[0m\n\u001b[0m\u001b[1;32m     36\u001b[0m \u001b[0;34m\u001b[0m\u001b[0m\n\u001b[1;32m     37\u001b[0m \u001b[0;32mdef\u001b[0m \u001b[0mloss_fn\u001b[0m\u001b[0;34m(\u001b[0m\u001b[0mimage\u001b[0m\u001b[0;34m)\u001b[0m\u001b[0;34m:\u001b[0m\u001b[0;34m\u001b[0m\u001b[0;34m\u001b[0m\u001b[0m\n",
            "\u001b[0;32m/usr/local/lib/python3.10/dist-packages/torch/optim/adam.py\u001b[0m in \u001b[0;36m__init__\u001b[0;34m(self, params, lr, betas, eps, weight_decay, amsgrad, foreach, maximize, capturable, differentiable, fused)\u001b[0m\n\u001b[1;32m     43\u001b[0m                         \u001b[0mmaximize\u001b[0m\u001b[0;34m=\u001b[0m\u001b[0mmaximize\u001b[0m\u001b[0;34m,\u001b[0m \u001b[0mforeach\u001b[0m\u001b[0;34m=\u001b[0m\u001b[0mforeach\u001b[0m\u001b[0;34m,\u001b[0m \u001b[0mcapturable\u001b[0m\u001b[0;34m=\u001b[0m\u001b[0mcapturable\u001b[0m\u001b[0;34m,\u001b[0m\u001b[0;34m\u001b[0m\u001b[0;34m\u001b[0m\u001b[0m\n\u001b[1;32m     44\u001b[0m                         differentiable=differentiable, fused=fused)\n\u001b[0;32m---> 45\u001b[0;31m         \u001b[0msuper\u001b[0m\u001b[0;34m(\u001b[0m\u001b[0;34m)\u001b[0m\u001b[0;34m.\u001b[0m\u001b[0m__init__\u001b[0m\u001b[0;34m(\u001b[0m\u001b[0mparams\u001b[0m\u001b[0;34m,\u001b[0m \u001b[0mdefaults\u001b[0m\u001b[0;34m)\u001b[0m\u001b[0;34m\u001b[0m\u001b[0;34m\u001b[0m\u001b[0m\n\u001b[0m\u001b[1;32m     46\u001b[0m \u001b[0;34m\u001b[0m\u001b[0m\n\u001b[1;32m     47\u001b[0m         \u001b[0;32mif\u001b[0m \u001b[0mfused\u001b[0m\u001b[0;34m:\u001b[0m\u001b[0;34m\u001b[0m\u001b[0;34m\u001b[0m\u001b[0m\n",
            "\u001b[0;32m/usr/local/lib/python3.10/dist-packages/torch/optim/optimizer.py\u001b[0m in \u001b[0;36m__init__\u001b[0;34m(self, params, defaults)\u001b[0m\n\u001b[1;32m    264\u001b[0m \u001b[0;34m\u001b[0m\u001b[0m\n\u001b[1;32m    265\u001b[0m         \u001b[0;32mfor\u001b[0m \u001b[0mparam_group\u001b[0m \u001b[0;32min\u001b[0m \u001b[0mparam_groups\u001b[0m\u001b[0;34m:\u001b[0m\u001b[0;34m\u001b[0m\u001b[0;34m\u001b[0m\u001b[0m\n\u001b[0;32m--> 266\u001b[0;31m             \u001b[0mself\u001b[0m\u001b[0;34m.\u001b[0m\u001b[0madd_param_group\u001b[0m\u001b[0;34m(\u001b[0m\u001b[0mcast\u001b[0m\u001b[0;34m(\u001b[0m\u001b[0mdict\u001b[0m\u001b[0;34m,\u001b[0m \u001b[0mparam_group\u001b[0m\u001b[0;34m)\u001b[0m\u001b[0;34m)\u001b[0m\u001b[0;34m\u001b[0m\u001b[0;34m\u001b[0m\u001b[0m\n\u001b[0m\u001b[1;32m    267\u001b[0m \u001b[0;34m\u001b[0m\u001b[0m\n\u001b[1;32m    268\u001b[0m         \u001b[0;31m# Allows _cuda_graph_capture_health_check to rig a poor man's TORCH_WARN_ONCE in python,\u001b[0m\u001b[0;34m\u001b[0m\u001b[0;34m\u001b[0m\u001b[0m\n",
            "\u001b[0;32m/usr/local/lib/python3.10/dist-packages/torch/_compile.py\u001b[0m in \u001b[0;36minner\u001b[0;34m(*args, **kwargs)\u001b[0m\n\u001b[1;32m     22\u001b[0m             \u001b[0;32mimport\u001b[0m \u001b[0mtorch\u001b[0m\u001b[0;34m.\u001b[0m\u001b[0m_dynamo\u001b[0m\u001b[0;34m\u001b[0m\u001b[0;34m\u001b[0m\u001b[0m\n\u001b[1;32m     23\u001b[0m \u001b[0;34m\u001b[0m\u001b[0m\n\u001b[0;32m---> 24\u001b[0;31m             \u001b[0;32mreturn\u001b[0m \u001b[0mtorch\u001b[0m\u001b[0;34m.\u001b[0m\u001b[0m_dynamo\u001b[0m\u001b[0;34m.\u001b[0m\u001b[0mdisable\u001b[0m\u001b[0;34m(\u001b[0m\u001b[0mfn\u001b[0m\u001b[0;34m,\u001b[0m \u001b[0mrecursive\u001b[0m\u001b[0;34m)\u001b[0m\u001b[0;34m(\u001b[0m\u001b[0;34m*\u001b[0m\u001b[0margs\u001b[0m\u001b[0;34m,\u001b[0m \u001b[0;34m**\u001b[0m\u001b[0mkwargs\u001b[0m\u001b[0;34m)\u001b[0m\u001b[0;34m\u001b[0m\u001b[0;34m\u001b[0m\u001b[0m\n\u001b[0m\u001b[1;32m     25\u001b[0m \u001b[0;34m\u001b[0m\u001b[0m\n\u001b[1;32m     26\u001b[0m         \u001b[0;32mreturn\u001b[0m \u001b[0minner\u001b[0m\u001b[0;34m\u001b[0m\u001b[0;34m\u001b[0m\u001b[0m\n",
            "\u001b[0;32m/usr/local/lib/python3.10/dist-packages/torch/_dynamo/eval_frame.py\u001b[0m in \u001b[0;36m_fn\u001b[0;34m(*args, **kwargs)\u001b[0m\n\u001b[1;32m    326\u001b[0m             \u001b[0mdynamic_ctx\u001b[0m\u001b[0;34m.\u001b[0m\u001b[0m__enter__\u001b[0m\u001b[0;34m(\u001b[0m\u001b[0;34m)\u001b[0m\u001b[0;34m\u001b[0m\u001b[0;34m\u001b[0m\u001b[0m\n\u001b[1;32m    327\u001b[0m             \u001b[0;32mtry\u001b[0m\u001b[0;34m:\u001b[0m\u001b[0;34m\u001b[0m\u001b[0;34m\u001b[0m\u001b[0m\n\u001b[0;32m--> 328\u001b[0;31m                 \u001b[0;32mreturn\u001b[0m \u001b[0mfn\u001b[0m\u001b[0;34m(\u001b[0m\u001b[0;34m*\u001b[0m\u001b[0margs\u001b[0m\u001b[0;34m,\u001b[0m \u001b[0;34m**\u001b[0m\u001b[0mkwargs\u001b[0m\u001b[0;34m)\u001b[0m\u001b[0;34m\u001b[0m\u001b[0;34m\u001b[0m\u001b[0m\n\u001b[0m\u001b[1;32m    329\u001b[0m             \u001b[0;32mfinally\u001b[0m\u001b[0;34m:\u001b[0m\u001b[0;34m\u001b[0m\u001b[0;34m\u001b[0m\u001b[0m\n\u001b[1;32m    330\u001b[0m                 \u001b[0mset_eval_frame\u001b[0m\u001b[0;34m(\u001b[0m\u001b[0mprior\u001b[0m\u001b[0;34m)\u001b[0m\u001b[0;34m\u001b[0m\u001b[0;34m\u001b[0m\u001b[0m\n",
            "\u001b[0;32m/usr/local/lib/python3.10/dist-packages/torch/optim/optimizer.py\u001b[0m in \u001b[0;36madd_param_group\u001b[0;34m(self, param_group)\u001b[0m\n\u001b[1;32m    872\u001b[0m                                 \"but one of the params is \" + torch.typename(param))\n\u001b[1;32m    873\u001b[0m             \u001b[0;32mif\u001b[0m \u001b[0;32mnot\u001b[0m \u001b[0mself\u001b[0m\u001b[0;34m.\u001b[0m\u001b[0mdefaults\u001b[0m\u001b[0;34m.\u001b[0m\u001b[0mget\u001b[0m\u001b[0;34m(\u001b[0m\u001b[0;34m'differentiable'\u001b[0m\u001b[0;34m,\u001b[0m \u001b[0;32mNone\u001b[0m\u001b[0;34m)\u001b[0m \u001b[0;32mand\u001b[0m \u001b[0;32mnot\u001b[0m \u001b[0;34m(\u001b[0m\u001b[0mparam\u001b[0m\u001b[0;34m.\u001b[0m\u001b[0mis_leaf\u001b[0m \u001b[0;32mor\u001b[0m \u001b[0mparam\u001b[0m\u001b[0;34m.\u001b[0m\u001b[0mretains_grad\u001b[0m\u001b[0;34m)\u001b[0m\u001b[0;34m:\u001b[0m\u001b[0;34m\u001b[0m\u001b[0;34m\u001b[0m\u001b[0m\n\u001b[0;32m--> 874\u001b[0;31m                 \u001b[0;32mraise\u001b[0m \u001b[0mValueError\u001b[0m\u001b[0;34m(\u001b[0m\u001b[0;34m\"can't optimize a non-leaf Tensor\"\u001b[0m\u001b[0;34m)\u001b[0m\u001b[0;34m\u001b[0m\u001b[0;34m\u001b[0m\u001b[0m\n\u001b[0m\u001b[1;32m    875\u001b[0m \u001b[0;34m\u001b[0m\u001b[0m\n\u001b[1;32m    876\u001b[0m         \u001b[0;32mfor\u001b[0m \u001b[0mname\u001b[0m\u001b[0;34m,\u001b[0m \u001b[0mdefault\u001b[0m \u001b[0;32min\u001b[0m \u001b[0mself\u001b[0m\u001b[0;34m.\u001b[0m\u001b[0mdefaults\u001b[0m\u001b[0;34m.\u001b[0m\u001b[0mitems\u001b[0m\u001b[0;34m(\u001b[0m\u001b[0;34m)\u001b[0m\u001b[0;34m:\u001b[0m\u001b[0;34m\u001b[0m\u001b[0;34m\u001b[0m\u001b[0m\n",
            "\u001b[0;31mValueError\u001b[0m: can't optimize a non-leaf Tensor"
          ]
        }
      ]
    },
    {
      "cell_type": "code",
      "source": [
        "tip_tensor"
      ],
      "metadata": {
        "colab": {
          "base_uri": "https://localhost:8080/"
        },
        "id": "jj55v7Ic85Rs",
        "outputId": "5893108e-db19-45c6-ef33-0a2a733d461f"
      },
      "execution_count": 274,
      "outputs": [
        {
          "output_type": "execute_result",
          "data": {
            "text/plain": [
              "tensor([[0., 0., 0., 0., 0., 0., 0., 0., 0., 0., 0., 0., 0., 0.],\n",
              "        [0., 0., 0., 0., 0., 0., 0., 0., 0., 0., 0., 0., 0., 0.],\n",
              "        [0., 0., 0., 0., 0., 0., 0., 0., 0., 0., 0., 0., 0., 0.],\n",
              "        [0., 0., 0., 0., 0., 0., 0., 0., 0., 0., 0., 0., 0., 0.],\n",
              "        [0., 0., 0., 0., 0., 0., 0., 0., 0., 0., 0., 0., 0., 0.],\n",
              "        [0., 0., 0., 0., 0., 0., 0., 0., 0., 0., 0., 0., 0., 0.],\n",
              "        [0., 0., 0., 0., 0., 0., 0., 0., 0., 0., 0., 0., 0., 0.],\n",
              "        [0., 0., 0., 0., 0., 0., 0., 0., 0., 0., 0., 0., 0., 0.],\n",
              "        [0., 0., 0., 0., 0., 0., 0., 0., 0., 0., 0., 0., 0., 0.],\n",
              "        [0., 0., 0., 0., 0., 0., 0., 0., 0., 0., 0., 0., 0., 0.]],\n",
              "       requires_grad=True)"
            ]
          },
          "metadata": {},
          "execution_count": 274
        }
      ]
    },
    {
      "cell_type": "code",
      "source": [
        "import torch\n",
        "import torch.optim as optim\n",
        "import numpy as np\n",
        "\n",
        "device = torch.device(\"cuda\" if torch.cuda.is_available() else \"cpu\")\n",
        "image_tensor = torch.tensor(images[0, :, :], dtype=torch.float32)\n",
        "image_tensor = image_tensor.to(device)\n",
        "\n",
        "# Initialize tip with random values\n",
        "tip_size = tip.shape\n",
        "tip_tensor = torch.rand(tip_size, dtype=torch.float64, requires_grad=True, device=device)\n",
        "\n",
        "# Optimization settings\n",
        "optimizer = optim.Adam([tip_tensor], lr=1.0)\n",
        "num_iterations = 100\n",
        "\n",
        "# Optimization loop\n",
        "for iteration in range(num_iterations):\n",
        "    optimizer.zero_grad()  # Clear gradients from the previous iteration\n",
        "\n",
        "    # Perform dilation\n",
        "    image_reconstructed = idilation(ierosion(image_tensor, tip_tensor), tip_tensor)\n",
        "    #print(torch.max(image_reconstructed))\n",
        "\n",
        "    # Calculate MSE loss\n",
        "    loss = torch.mean((image_reconstructed - image_tensor)**2)\n",
        "\n",
        "    # Backpropagation\n",
        "    loss.backward()\n",
        "    #print(tip_tensor.grad)\n",
        "\n",
        "    # Update tip\n",
        "    optimizer.step()\n",
        "\n",
        "    with torch.no_grad():\n",
        "        tip_tensor.data = torch.clamp(tip_tensor, max=0.0)\n",
        "        tip_tensor.data = translate_tip_mean(tip_tensor)\n",
        "\n",
        "    # Optional: print loss every few iterations\n",
        "    if iteration % 10 == 0:\n",
        "        print(f\"Iteration {iteration}, Loss: {loss.item()}\")\n",
        "\n",
        "# Final optimized tip\n",
        "tip_estimate = tip_tensor.detach().to('cpu').numpy()"
      ],
      "metadata": {
        "colab": {
          "base_uri": "https://localhost:8080/"
        },
        "id": "-MvfRPXk8-ul",
        "outputId": "9ba074df-ee55-4a9e-cfdb-208557031ab8"
      },
      "execution_count": 433,
      "outputs": [
        {
          "output_type": "stream",
          "name": "stdout",
          "text": [
            "Iteration 0, Loss: 5.956843852996826\n",
            "Iteration 10, Loss: 5.940250873565674\n",
            "Iteration 20, Loss: 5.285327911376953\n",
            "Iteration 30, Loss: 3.506157636642456\n",
            "Iteration 40, Loss: 2.755160331726074\n",
            "Iteration 50, Loss: 2.4642629623413086\n",
            "Iteration 60, Loss: 2.0682034492492676\n",
            "Iteration 70, Loss: 1.809455156326294\n",
            "Iteration 80, Loss: 1.4451649188995361\n",
            "Iteration 90, Loss: 1.4516417980194092\n"
          ]
        }
      ]
    },
    {
      "cell_type": "code",
      "source": [
        "image_reconstructed = idilation(ierosion(image_tensor, tip_tensor), tip_tensor)\n",
        "plt.imshow(image_reconstructed.detach().cpu(), cmap='afmhot')\n",
        "plt.colorbar()\n",
        "print(torch.max(image_reconstructed))"
      ],
      "metadata": {
        "colab": {
          "base_uri": "https://localhost:8080/",
          "height": 450
        },
        "id": "iGAnlGbUJ8o3",
        "outputId": "dbcdd946-5bf4-4c9c-e632-b6c95b72011c"
      },
      "execution_count": 434,
      "outputs": [
        {
          "output_type": "stream",
          "name": "stdout",
          "text": [
            "tensor(6.0454, device='cuda:0', grad_fn=<MaxBackward1>)\n"
          ]
        },
        {
          "output_type": "display_data",
          "data": {
            "text/plain": [
              "<Figure size 640x480 with 2 Axes>"
            ],
            "image/png": "[encoded data removed]"
          },
          "metadata": {}
        }
      ]
    },
    {
      "cell_type": "code",
      "source": [
        "plt.imshow(image_tensor.cpu(), cmap='afmhot')"
      ],
      "metadata": {
        "colab": {
          "base_uri": "https://localhost:8080/",
          "height": 447
        },
        "id": "YfL7ADBqVETh",
        "outputId": "77d1bd7e-0326-4a0f-e106-f925162a0745"
      },
      "execution_count": 435,
      "outputs": [
        {
          "output_type": "execute_result",
          "data": {
            "text/plain": [
              "<matplotlib.image.AxesImage at 0x78410e467ca0>"
            ]
          },
          "metadata": {},
          "execution_count": 435
        },
        {
          "output_type": "display_data",
          "data": {
            "text/plain": [
              "<Figure size 640x480 with 1 Axes>"
            ],
            "image/png": "[encoded data removed]"
          },
          "metadata": {}
        }
      ]
    },
    {
      "cell_type": "code",
      "source": [
        "plt.imshow(tip_estimate)"
      ],
      "metadata": {
        "colab": {
          "base_uri": "https://localhost:8080/",
          "height": 432
        },
        "id": "3tu0hF2OVPG3",
        "outputId": "9979beac-ec6e-40d0-b1f5-e66527f31ea2"
      },
      "execution_count": 436,
      "outputs": [
        {
          "output_type": "execute_result",
          "data": {
            "text/plain": [
              "<matplotlib.image.AxesImage at 0x78410e46c3d0>"
            ]
          },
          "metadata": {},
          "execution_count": 436
        },
        {
          "output_type": "display_data",
          "data": {
            "text/plain": [
              "<Figure size 640x480 with 1 Axes>"
            ],
            "image/png": "[encoded data removed]"
          },
          "metadata": {}
        }
      ]
    },
    {
      "cell_type": "code",
      "source": [],
      "metadata": {
        "id": "vZYcEUA3gZUb"
      },
      "execution_count": null,
      "outputs": []
    }
  ]
}